{
 "cells": [
  {
   "cell_type": "markdown",
   "id": "8b13baaf",
   "metadata": {},
   "source": [
    "# This requires different from django backend packages!"
   ]
  },
  {
   "cell_type": "code",
   "execution_count": 9,
   "id": "609aa1e2",
   "metadata": {},
   "outputs": [],
   "source": [
    "from PIL import Image, ImageDraw, ImageFont, ImageChops, ImageOps\n",
    "\n",
    "from pathlib import Path\n",
    "\n",
    "import numpy as np"
   ]
  },
  {
   "cell_type": "code",
   "execution_count": 2,
   "id": "b041ef78",
   "metadata": {},
   "outputs": [],
   "source": [
    "# this is for testing purposes!\n",
    "%load_ext autoreload\n",
    "%autoreload 2\n",
    "%matplotlib inline"
   ]
  },
  {
   "cell_type": "code",
   "execution_count": 3,
   "id": "cea94021",
   "metadata": {},
   "outputs": [],
   "source": [
    "import img_tools as img_t"
   ]
  },
  {
   "cell_type": "code",
   "execution_count": 4,
   "id": "5c327303",
   "metadata": {},
   "outputs": [],
   "source": [
    "import matplotlib as mpl\n",
    "import matplotlib.pyplot as plt"
   ]
  },
  {
   "cell_type": "code",
   "execution_count": 5,
   "id": "e254f2b4",
   "metadata": {},
   "outputs": [],
   "source": [
    "data_path = Path(\"dataset\")"
   ]
  },
  {
   "cell_type": "code",
   "execution_count": 7,
   "id": "a7f5af5f",
   "metadata": {},
   "outputs": [
    {
     "name": "stdout",
     "output_type": "stream",
     "text": [
      "dataset\\dataset\\Affectionately Yours - TTF\n",
      "dataset\\dataset\\akaDora\n",
      "dataset\\dataset\\beneg___\n",
      "dataset\\dataset\\fabfeltscript-bold\n",
      "dataset\\dataset\\GreatVibes-Regular\n",
      "dataset\\dataset\\I Love Glitter\n",
      "dataset\\dataset\\Monallesia Script\n",
      "dataset\\dataset\\Quirlycues\n",
      "dataset\\dataset\\SFCartoonistHand\n"
     ]
    }
   ],
   "source": [
    "for folder in data_path.iterdir():\n",
    "    folder_path = data_path / folder\n",
    "    print(folder_path)"
   ]
  },
  {
   "cell_type": "code",
   "execution_count": 10,
   "id": "127d47b9",
   "metadata": {
    "scrolled": true
   },
   "outputs": [
    {
     "name": "stdout",
     "output_type": "stream",
     "text": [
      "(256, 256)\n",
      "242\n"
     ]
    },
    {
     "data": {
      "image/png": "[encoded data removed]",
      "text/plain": [
       "<PIL.Image.Image image mode=RGBA size=256x256 at 0x26109CC6280>"
      ]
     },
     "metadata": {},
     "output_type": "display_data"
    },
    {
     "name": "stdout",
     "output_type": "stream",
     "text": [
      "(256, 256)\n"
     ]
    }
   ],
   "source": [
    "test_image_path = Path(\"dataset\", \"Quirlycues\", \"9.png\")\n",
    "with Image.open(test_image_path) as img:\n",
    "    # display(img)\n",
    "    print(img.size)\n",
    "    initial_size = img.size\n",
    "    tst = ImageChops.offset(img, xoffset=-10, yoffset=-10)\n",
    "    # display(tst)\n",
    "    \n",
    "    scale = 0.95\n",
    "    new_size = int(img.size[0]*scale)//2*2\n",
    "    print(new_size)\n",
    "    tst = ImageOps.pad(tst, size=(new_size, new_size))\n",
    "    temp = (img.size[0] - tst.size[0])//2\n",
    "    tst = ImageOps.expand(tst, border=temp)\n",
    "    \n",
    "    display(tst.rotate(-7, resample=Image.BILINEAR))\n",
    "    print(tst.size)"
   ]
  },
  {
   "cell_type": "code",
   "execution_count": 12,
   "id": "3b474b91",
   "metadata": {},
   "outputs": [
    {
     "name": "stdout",
     "output_type": "stream",
     "text": [
      "(2548, 256, 256)\n"
     ]
    }
   ],
   "source": [
    "test_image_path = Path(\"dataset\", \"Quirlycues\", \"9.png\")\n",
    "with Image.open(test_image_path) as img:\n",
    "    ans = img_t.augmentation([img])\n",
    "print(ans.shape)"
   ]
  },
  {
   "cell_type": "code",
   "execution_count": null,
   "id": "dd46628f",
   "metadata": {},
   "outputs": [],
   "source": [
    "img = Image.open(test_image_path)\n",
    "img.load()\n",
    "data = np.asarray(img)"
   ]
  },
  {
   "cell_type": "code",
   "execution_count": null,
   "id": "2785cf6f",
   "metadata": {},
   "outputs": [],
   "source": [
    "b_w_train_test = np.array((-np.flip(data[:, :, 0], axis=0)+255)/255)"
   ]
  },
  {
   "cell_type": "code",
   "execution_count": null,
   "id": "fae86c59",
   "metadata": {},
   "outputs": [],
   "source": [
    "print(b_w_train_test.shape)\n",
    "plt.pcolormesh(b_w_train_test)\n",
    "plt.show()"
   ]
  },
  {
   "cell_type": "code",
   "execution_count": null,
   "id": "af78238b",
   "metadata": {},
   "outputs": [],
   "source": []
  },
  {
   "cell_type": "code",
   "execution_count": null,
   "id": "5e7ded4b",
   "metadata": {},
   "outputs": [],
   "source": []
  }
 ],
 "metadata": {
  "kernelspec": {
   "display_name": "Python 3 (ipykernel)",
   "language": "python",
   "name": "python3"
  },
  "language_info": {
   "codemirror_mode": {
    "name": "ipython",
    "version": 3
   },
   "file_extension": ".py",
   "mimetype": "text/x-python",
   "name": "python",
   "nbconvert_exporter": "python",
   "pygments_lexer": "ipython3",
   "version": "3.9.12"
  }
 },
 "nbformat": 4,
 "nbformat_minor": 5
}
